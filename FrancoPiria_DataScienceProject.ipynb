{
 "cells": [
  {
   "cell_type": "code",
   "execution_count": 6,
   "id": "ed5eb30b-a048-4b12-945d-2acb83244d77",
   "metadata": {
    "tags": []
   },
   "outputs": [],
   "source": [
    "import pandas as pd"
   ]
  },
  {
   "cell_type": "code",
   "execution_count": 7,
   "id": "47e9cb35-27f1-46cc-ad77-0f7a76ca5f0d",
   "metadata": {},
   "outputs": [],
   "source": [
    "url1 = \"https://github.com/francopiria/Beer-Data-Science/blob/main/Beer%20Name%20Fuzzy%20Match%20List.csv\"\n",
    "url2 = \"https://github.com/francopiria/Beer-Data-Science/blob/main/Brewery%20Name%20Fuzzy%20Match%20List.csv\"\n",
    "url3 = \"https://github.com/francopiria/Beer-Data-Science/blob/main/beer_profile_and_ratings.csv\"\n",
    "url4 = \"https://github.com/francopiria/Beer-Data-Science/blob/main/Beer%20Descriptors%20Simplified.xlsx\""
   ]
  },
  {
   "cell_type": "code",
   "execution_count": null,
   "id": "3ed2b34d-70ee-4c8c-9f52-2103281e09c6",
   "metadata": {
    "tags": []
   },
   "outputs": [],
   "source": [
    "beerNameList_df = pd.read_csv(url1, index_col=0)\n",
    "print(beerNameList_df.head(5))"
   ]
  },
  {
   "cell_type": "code",
   "execution_count": null,
   "id": "24feee4a-3d27-44c2-af8f-62834857fc74",
   "metadata": {
    "tags": []
   },
   "outputs": [],
   "source": [
    "breweryNameList_df = pd.read_csv(url2, index_col=0)\n",
    "print(breweryNameList_df.head(5))"
   ]
  },
  {
   "cell_type": "code",
   "execution_count": null,
   "id": "27d8db25-6cfe-4e94-811e-71c1773f193a",
   "metadata": {
    "tags": []
   },
   "outputs": [],
   "source": [
    "beerProfileAndRatings_df = pd.read_csv(url3, index_col=0)\n",
    "print(beerProfileAndRatings_df.head(5))"
   ]
  },
  {
   "cell_type": "code",
   "execution_count": null,
   "id": "cf114495-2a8f-4d0d-96a0-254aea7552dd",
   "metadata": {
    "tags": []
   },
   "outputs": [],
   "source": [
    "simplifiedDescriptors_Mouthfeel_df = pd.read_excel(url4, sheet_name=\"Mouthfeel\", index_col=0)\n",
    "print(simplifiedDescriptors_Mouthfeel_df.head(5))"
   ]
  },
  {
   "cell_type": "code",
   "execution_count": null,
   "id": "572f3281-0096-4220-a69c-0c466322381e",
   "metadata": {},
   "outputs": [],
   "source": [
    "simplifiedDescriptors_Taste_df = pd.read_excel(url4, sheet_name=\"Taste\", index_col=0)\n",
    "print(simplifiedDescriptors_Taste_df.head(5))"
   ]
  },
  {
   "cell_type": "code",
   "execution_count": null,
   "id": "1e3c1315-0b90-4487-9a97-9955f379df03",
   "metadata": {},
   "outputs": [],
   "source": [
    "simplifiedDescriptors_FA_df = pd.read_excel(url4, sheet_name=\"Flavor And Aroma\", index_col=0)\n",
    "print(simplifiedDescriptors_FA_df.head(5))"
   ]
  }
 ],
 "metadata": {
  "kernelspec": {
   "display_name": "Python 3 (ipykernel)",
   "language": "python",
   "name": "python3"
  },
  "language_info": {
   "codemirror_mode": {
    "name": "ipython",
    "version": 3
   },
   "file_extension": ".py",
   "mimetype": "text/x-python",
   "name": "python",
   "nbconvert_exporter": "python",
   "pygments_lexer": "ipython3",
   "version": "3.11.5"
  }
 },
 "nbformat": 4,
 "nbformat_minor": 5
}
