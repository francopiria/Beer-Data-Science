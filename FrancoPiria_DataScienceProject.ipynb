{
 "cells": [
  {
   "cell_type": "code",
   "execution_count": 29,
   "id": "ed5eb30b-a048-4b12-945d-2acb83244d77",
   "metadata": {
    "tags": []
   },
   "outputs": [],
   "source": [
    "import pandas as pd\n",
    "import matplotlib.pyplot as plt\n",
    "import seaborn as sns"
   ]
  },
  {
   "cell_type": "code",
   "execution_count": 30,
   "id": "47e9cb35-27f1-46cc-ad77-0f7a76ca5f0d",
   "metadata": {},
   "outputs": [],
   "source": [
    "# Recordar obtener los URL \"RAW\" en Github\n",
    "\n",
    "dataSet_url = \"https://raw.githubusercontent.com/francopiria/Beer-Data-Science/main/beer_profile_and_ratings.csv\""
   ]
  },
  {
   "cell_type": "code",
   "execution_count": null,
   "id": "3ed2b34d-70ee-4c8c-9f52-2103281e09c6",
   "metadata": {
    "tags": []
   },
   "outputs": [],
   "source": [
    "df = pd.read_csv(dataSet_url, index_col=3)\n",
    "print(df.columns)\n",
    "print(len(df))\n",
    "# print(df.head(3))\n",
    "\n",
    "# Largo: 3197\n",
    "# Columnas\n",
    "#       ['Name', 'Style', 'Brewery', 'Description',\n",
    "#       'ABV', 'Min IBU', 'Max IBU',\n",
    "#       'Astringency', 'Body', 'Alcohol', 'Bitter', 'Sweet', 'Sour', 'Salty',\n",
    "#       'Fruits', 'Hoppy', 'Spices', 'Malty',\n",
    "#       'review_aroma','review_appearance', 'review_palate', 'review_taste', 'review_overall',\n",
    "#       'number_of_reviews']\n",
    "\n",
    "# ABV es Alcohol por volumen, IBU Amargor, \"Alcohol\" es un descriptor\n",
    "\n",
    "#Ideas\n",
    "# Analizar ABV contra descriptor alcohol\n",
    "# IBU contra astringencia, cuerpo, bitter y sour\n",
    "# Cada review específico contra el overall para ver cuales afecntan más"
   ]
  },
  {
   "cell_type": "code",
   "execution_count": null,
   "id": "2ce95858-b1b9-498d-9c92-85afd51aab57",
   "metadata": {
    "tags": []
   },
   "outputs": [],
   "source": [
    "# Normalizar las varialbes\n",
    "# 'Astringency', 'Body', 'Alcohol', 'Bitter', 'Sweet',\n",
    "# 'Sour','Salty','Fruits', 'Hoppy', 'Spices', 'Malty'\n",
    "# A una escala del 1 al 100 cada una\n",
    "\n",
    "# Lista de columnas a redimensionar\n",
    "columnas_redimensionar = ['Astringency', 'Body', 'Alcohol', 'Bitter', 'Sweet', 'Sour', 'Salty', 'Fruits', 'Hoppy', 'Spices', 'Malty']\n",
    "\n",
    "# Máximos asociados a cada campo según el Dataset\n",
    "maximos = {\n",
    "    'Astringency': 89,\n",
    "    'Body': 97,\n",
    "    'Alcohol': 64,\n",
    "    'Bitter': 86,\n",
    "    'Sweet': 128,\n",
    "    'Sour': 111,\n",
    "    'Salty': 13,\n",
    "    'Fruits': 174,\n",
    "    'Hoppy': 148,\n",
    "    'Spices': 99,\n",
    "    'Malty': 209\n",
    "}\n",
    "\n",
    "# Función para redimensionar los valores a la escala de 0 a 100\n",
    "def redimensionar(valor, max_valor):\n",
    "    nuevo_valor = (valor / max_valor) * 100\n",
    "    return nuevo_valor\n",
    "\n",
    "\n",
    "# Aplicamos la función de redimensionamiento a las columnas usando un bucle for\n",
    "for columna in columnas_redimensionar:\n",
    "    df[columna] = redimensionar(df[columna], maximos[columna])\n",
    "\n",
    "# Visualizamos el DataFrame con las columnas redimensionadas\n",
    "# print(df.head(3))"
   ]
  },
  {
   "cell_type": "code",
   "execution_count": null,
   "id": "8006a557-a6ce-4b9d-8c40-057ba0b38999",
   "metadata": {},
   "outputs": [],
   "source": [
    "# Ahora quiero crear una nueva colummna que sea el promedio entre el mínimo y máximo IBU para trabajar con este valor\n"
   ]
  },
  {
   "cell_type": "code",
   "execution_count": null,
   "id": "62811f5c-af19-4f5f-86ce-bbd0dbfdc60f",
   "metadata": {
    "tags": []
   },
   "outputs": [],
   "source": [
    "#Ahora el DataSet tiene dimensiones adecuadas para sus diferentes campos.\n",
    "#\n",
    "\n",
    "# Calcular el número de reviews que corresponde al 5% más bajo\n",
    "percentile_10 = int(0.10 * len(df))  # Obtener el 5% de las entradas\n",
    "\n",
    "# Ordenar el DataFrame por el número de reviews y seleccionar el 5% más bajo\n",
    "lowest_reviews = df.sort_values('number_of_reviews').head(percentile_10)\n",
    "\n",
    "print(percentile_10)\n",
    "print(lowest_reviews)"
   ]
  },
  {
   "cell_type": "code",
   "execution_count": null,
   "id": "a4d6e852-b05c-4479-b213-5e5ed1cc7db1",
   "metadata": {
    "tags": []
   },
   "outputs": [],
   "source": [
    "#observo que los datos pertenecientes al 10%  con menos numero de reviews tienen como máximo 5 reviews.\n",
    "# Decido cortar del dataset todas las entradas que tengan 5 reviews o menos.\n",
    "\n",
    "# Filtrar el DataFrame para quedarse con las entradas que tienen 6 o más reviews\n",
    "df_filtered = df[df['number_of_reviews'] >= 5]\n",
    "\n",
    "# Ver las primeras filas del DataFrame filtrado\n",
    "print(df_filtered)"
   ]
  },
  {
   "cell_type": "code",
   "execution_count": null,
   "id": "ff632156-433e-4d05-b06f-977a56dc5b84",
   "metadata": {
    "tags": []
   },
   "outputs": [],
   "source": [
    "score_variables_names = [\n",
    "    \"review_aroma\",\n",
    "    \"review_appearance\",\n",
    "    \"review_palate\",\n",
    "    \"review_taste\",\n",
    "    \"review_overall\",\n",
    "    \"number_of_reviews\"\n",
    "]"
   ]
  },
  {
   "cell_type": "code",
   "execution_count": null,
   "id": "0f53fa4b-c022-4b4f-8f2e-4d883549ce93",
   "metadata": {
    "tags": []
   },
   "outputs": [],
   "source": [
    "# Histogramas para evaluar la distribución de las variables de reviews\n",
    "\n",
    "for columna in score_variables_names:\n",
    "    plt.figure(figsize=(6, 4))  # Tamaño de la figura\n",
    "    plt.hist(df[columna])\n",
    "    plt.xlabel(f'Valores {columna}')\n",
    "    plt.ylabel('Frecuencia')\n",
    "    plt.title(f'Histograma de {columna}')\n",
    "    plt.show()"
   ]
  },
  {
   "cell_type": "code",
   "execution_count": null,
   "id": "ddf5e69b-480b-447a-ac58-0959f4c6d634",
   "metadata": {},
   "outputs": [],
   "source": [
    "# Gráfico de barras de estilos de cerveza para evaluar cuales son las cervezas más producidas\n",
    "plt.figure(figsize=(10, 6))\n",
    "style_counts = df['Style'].value_counts().head(10)  # Top 10 estilos más comunes\n",
    "sns.barplot(x=style_counts.values, y=style_counts.index, palette='viridis')\n",
    "plt.xlabel('Cantidad')\n",
    "plt.ylabel('Estilo de Cerveza')\n",
    "plt.title('Cantidad de Cervezas por Estilo (Top 10)')\n",
    "plt.show()"
   ]
  },
  {
   "cell_type": "code",
   "execution_count": null,
   "id": "622a89fe-dd5e-457a-92f8-4203944014c5",
   "metadata": {
    "tags": []
   },
   "outputs": [],
   "source": [
    "# Diagrama de dispersión ABV vs. calificaciones para evaluar correlación alcohol calificación\n",
    "plt.figure(figsize=(8, 6))\n",
    "sns.scatterplot(x='ABV', y='review_overall', data=df)\n",
    "plt.xlabel('ABV')\n",
    "plt.ylabel('Rating')\n",
    "plt.title('Relación entre ABV y Calificaciones')\n",
    "plt.show()\n",
    "\n",
    "# No parece haber correlación clara"
   ]
  },
  {
   "cell_type": "code",
   "execution_count": null,
   "id": "33356c35-7afd-4efc-ac26-d93332272841",
   "metadata": {
    "tags": []
   },
   "outputs": [],
   "source": [
    "# Diagrama de dispersión IBU vs. calificaciones\n",
    "plt.figure(figsize=(8, 6))\n",
    "sns.scatterplot(x='Min IBU', y='review_overall', data=df)\n",
    "plt.xlabel('Min IBU')\n",
    "plt.ylabel('Rating')\n",
    "plt.title('Relación entre Min IBU y Calificaciones')\n",
    "plt.show()\n",
    "\n",
    "plt.figure(figsize=(8, 6))\n",
    "sns.scatterplot(x='Max IBU', y='review_overall', data=df)\n",
    "plt.xlabel('Max IBU')\n",
    "plt.ylabel('Rating')\n",
    "plt.title('Relación entre Max IBU y Calificaciones')\n",
    "plt.show()\n",
    "\n",
    "# Se ve que no hay cervezas de nota baja con alto amargor.\n",
    "# Dentro de las de notas mas altas, hay de bajo y alto amargor\n",
    "# Pendiente hacer el gráfico con el promedio de mínimo y máximo amargor"
   ]
  },
  {
   "cell_type": "code",
   "execution_count": null,
   "id": "cd6bbc82-4341-40e0-a025-beae90710c5a",
   "metadata": {
    "tags": []
   },
   "outputs": [],
   "source": [
    "# Mapa de calor para correlaciones\n",
    "plt.figure(figsize=(8, 6))\n",
    "correlation_matrix = df[['ABV', 'Min IBU', 'review_overall']].corr()\n",
    "sns.heatmap(correlation_matrix, annot=True, cmap='coolwarm', fmt=\".2f\")\n",
    "plt.title('Mapa de Calor de Correlaciones')\n",
    "plt.show()\n",
    "\n",
    "plt.figure(figsize=(8, 6))\n",
    "correlation_matrix = df[['ABV', 'Max IBU', 'review_overall']].corr()\n",
    "sns.heatmap(correlation_matrix, annot=True, cmap='coolwarm', fmt=\".2f\")\n",
    "plt.title('Mapa de Calor de Correlaciones')\n",
    "plt.show()\n",
    "\n",
    "# Sería bueno ver correlaciones entre review overall con review aroma/amargor/etc, pendiente"
   ]
  },
  {
   "cell_type": "code",
   "execution_count": null,
   "id": "4c24aa92-e115-425d-937a-d9c41d5e90ef",
   "metadata": {
    "tags": []
   },
   "outputs": [],
   "source": [
    "# Gráfico de densidad de calificaciones por estilo de cerveza\n",
    "\n",
    "plt.figure(figsize=(10, 6))\n",
    "for style in df['Style'].unique():\n",
    "    sns.kdeplot(data=df[df['Style'] == style]['review_overall'], label=style, fill=True, common_norm=False)\n",
    "    \n",
    "plt.xlabel('Calificación')\n",
    "plt.ylabel('Densidad')\n",
    "plt.title('Distribución de Calificaciones por Estilo de Cerveza')\n",
    "plt.legend(title='Estilo de Cerveza', bbox_to_anchor=(1.05, 1), loc='upper left')\n",
    "plt.show()\n",
    "\n",
    "# Dificil de ver por ser tantos estilos\n",
    "# Filtro el dataset para ver las mejores y las peores"
   ]
  },
  {
   "cell_type": "code",
   "execution_count": null,
   "id": "aca88b59-940a-459f-9fa0-690d1ced5c10",
   "metadata": {
    "tags": []
   },
   "outputs": [],
   "source": [
    "# Calcular la media de calificaciones por estilo de cerveza\n",
    "mean_ratings = df.groupby('Style')['review_overall'].mean().sort_values(ascending=False)\n",
    "\n",
    "# Obtener los 10 estilos con las calificaciones más altas y más bajas\n",
    "top_styles = mean_ratings.head(10).index.tolist()\n",
    "bottom_styles = mean_ratings.tail(10).index.tolist()\n",
    "\n",
    "# Filtrar el DataFrame para obtener los datos correspondientes a los estilos seleccionados\n",
    "selected_styles = top_styles + bottom_styles\n",
    "filtered_df = df[df['Style'].isin(selected_styles)]\n",
    "\n",
    "# Gráfico de densidad para los estilos seleccionados\n",
    "plt.figure(figsize=(10, 6))\n",
    "for style in selected_styles:\n",
    "    sns.kdeplot(data=filtered_df[filtered_df['Style'] == style]['review_overall'], label=style, fill=True)\n",
    "\n",
    "plt.xlabel('Calificación')\n",
    "plt.ylabel('Densidad')\n",
    "plt.title('Distribución de Calificaciones por Estilo de Cerveza')\n",
    "plt.legend(title='Estilo de Cerveza', bbox_to_anchor=(1.05, 1), loc='upper left')\n",
    "plt.show()"
   ]
  },
  {
   "cell_type": "code",
   "execution_count": null,
   "id": "dbd5ea0b-8c8b-4e0b-82b3-9b33562f2d73",
   "metadata": {
    "tags": []
   },
   "outputs": [],
   "source": [
    "# Calcular la media de calificaciones por estilo de cerveza\n",
    "mean_ratings = df.groupby('Style')['review_overall'].mean().sort_values(ascending=False)\n",
    "\n",
    "# Obtener los 5 estilos con las calificaciones más altas y más bajas\n",
    "top_styles = mean_ratings.head(5).index.tolist()\n",
    "bottom_styles = mean_ratings.tail(5).index.tolist()\n",
    "\n",
    "# Filtrar el DataFrame para obtener los datos correspondientes a los estilos seleccionados\n",
    "selected_styles = top_styles + bottom_styles\n",
    "filtered_df = df[df['Style'].isin(selected_styles)]\n",
    "\n",
    "# Gráfico de densidad para los estilos seleccionados\n",
    "plt.figure(figsize=(10, 6))\n",
    "for style in selected_styles:\n",
    "    sns.kdeplot(data=filtered_df[filtered_df['Style'] == style]['review_overall'], label=style, fill=True)\n",
    "\n",
    "plt.xlabel('Calificación')\n",
    "plt.ylabel('Densidad')\n",
    "plt.title('Distribución de Calificaciones por Estilo de Cerveza')\n",
    "plt.legend(title='Estilo de Cerveza', bbox_to_anchor=(1.05, 1), loc='upper left')\n",
    "plt.show()\n",
    "\n",
    "# Las low alcohol beer parecen ser de las peor calificadas\n",
    "# New england IPA parece ser de las mejor calificadas"
   ]
  },
  {
   "cell_type": "code",
   "execution_count": null,
   "id": "0ab31eaf-1584-49a8-9b52-8a5cd037bad6",
   "metadata": {},
   "outputs": [],
   "source": []
  }
 ],
 "metadata": {
  "kernelspec": {
   "display_name": "Python 3 (ipykernel)",
   "language": "python",
   "name": "python3"
  },
  "language_info": {
   "codemirror_mode": {
    "name": "ipython",
    "version": 3
   },
   "file_extension": ".py",
   "mimetype": "text/x-python",
   "name": "python",
   "nbconvert_exporter": "python",
   "pygments_lexer": "ipython3",
   "version": "3.11.5"
  }
 },
 "nbformat": 4,
 "nbformat_minor": 5
}
